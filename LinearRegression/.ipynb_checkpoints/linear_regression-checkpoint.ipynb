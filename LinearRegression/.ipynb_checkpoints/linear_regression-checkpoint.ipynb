{
 "cells": [
  {
   "cell_type": "code",
   "execution_count": 1,
   "metadata": {},
   "outputs": [
    {
     "name": "stdout",
     "output_type": "stream",
     "text": [
      "0.4285714285714285 1.0\n"
     ]
    },
    {
     "data": {
      "image/png": "[encoded data removed]",
      "text/plain": [
       "<Figure size 432x288 with 1 Axes>"
      ]
     },
     "metadata": {
      "needs_background": "light"
     },
     "output_type": "display_data"
    }
   ],
   "source": [
    "import matplotlib.pyplot as plt\n",
    "import numpy as np\n",
    "\n",
    "x = np.array([1,2,4])\n",
    "y = np.array([2,1,3])\n",
    "\n",
    "plt.axis([0,10,0,10])\n",
    "plt.grid()\n",
    "plt.scatter(x,y)\n",
    "\n",
    "for i in range(len(x)):\n",
    "    label = \"(\" + str(x[i]) + \", \" + str(y[i]) + \")\"\n",
    "    plt.annotate(label,xy=(x[i],y[i]),xytext=(5,-5),textcoords='offset points')\n",
    "    \n",
    "m = (x.mean()*y.mean()-(x*y).mean())/((x.mean())**2-(x**2).mean())\n",
    "b = y.mean()-m*x.mean()\n",
    "\n",
    "x_axis = np.arange(0,10,0.1)\n",
    "y_axis = m*x_axis+b\n",
    "plt.plot(x_axis,y_axis,'k-')\n",
    "print(m,b)"
   ]
  },
  {
   "cell_type": "code",
   "execution_count": 2,
   "metadata": {},
   "outputs": [
    {
     "name": "stdout",
     "output_type": "stream",
     "text": [
      "[0.42857143]\n",
      "0.9999999999999998\n",
      "[1.42857143 1.85714286 2.71428571]\n"
     ]
    }
   ],
   "source": [
    "from sklearn.linear_model import LinearRegression\n",
    "\n",
    "x = [[1],[2],[4]]\n",
    "y = [2,1,3]\n",
    "\n",
    "regressor = LinearRegression()\n",
    "regressor.fit(x,y)\n",
    "\n",
    "print(regressor.coef_)\n",
    "print(regressor.intercept_)\n",
    "print(regressor.predict(x))"
   ]
  },
  {
   "cell_type": "code",
   "execution_count": 3,
   "metadata": {},
   "outputs": [
    {
     "name": "stdout",
     "output_type": "stream",
     "text": [
      "[ 3. -2.]\n",
      "4.999999999999999\n",
      "[2. 1. 3.]\n"
     ]
    }
   ],
   "source": [
    "x = [[1,3],[2,5],[4,7]]\n",
    "y = [2,1,3]\n",
    "\n",
    "regressor = LinearRegression()\n",
    "regressor.fit(x,y)\n",
    "\n",
    "print(regressor.coef_)\n",
    "print(regressor.intercept_)\n",
    "print(regressor.predict(x))"
   ]
  },
  {
   "cell_type": "code",
   "execution_count": null,
   "metadata": {},
   "outputs": [],
   "source": []
  }
 ],
 "metadata": {
  "kernelspec": {
   "display_name": "Python 3",
   "language": "python",
   "name": "python3"
  },
  "language_info": {
   "codemirror_mode": {
    "name": "ipython",
    "version": 3
   },
   "file_extension": ".py",
   "mimetype": "text/x-python",
   "name": "python",
   "nbconvert_exporter": "python",
   "pygments_lexer": "ipython3",
   "version": "3.7.6"
  }
 },
 "nbformat": 4,
 "nbformat_minor": 4
}
