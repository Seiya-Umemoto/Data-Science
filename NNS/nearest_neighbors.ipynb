{
 "cells": [
  {
   "cell_type": "code",
   "execution_count": 39,
   "metadata": {},
   "outputs": [],
   "source": [
    "import numpy as np\n",
    "import matplotlib.pyplot as plt"
   ]
  },
  {
   "cell_type": "code",
   "execution_count": 40,
   "metadata": {},
   "outputs": [],
   "source": [
    "data = np.array([[1,1],[3,2],[8,9],[9,8],[1,5]],dtype=\"float\")"
   ]
  },
  {
   "cell_type": "code",
   "execution_count": 54,
   "metadata": {},
   "outputs": [
    {
     "data": {
      "text/plain": [
       "<matplotlib.collections.PathCollection at 0x1517869c608>"
      ]
     },
     "execution_count": 54,
     "metadata": {},
     "output_type": "execute_result"
    },
    {
     "data": {
      "image/png": "[encoded data removed]",
      "text/plain": [
       "<Figure size 432x288 with 1 Axes>"
      ]
     },
     "metadata": {
      "needs_background": "light"
     },
     "output_type": "display_data"
    }
   ],
   "source": [
    "plt.axis([0,10,0,10])\n",
    "plt.xticks(np.arange(0,11,1))\n",
    "plt.yticks(np.arange(0,11,1))\n",
    "plt.grid()\n",
    "plt.scatter(data[:, 0], data[:, 1],color=(0,0,0))"
   ]
  },
  {
   "cell_type": "code",
   "execution_count": 20,
   "metadata": {},
   "outputs": [
    {
     "name": "stdout",
     "output_type": "stream",
     "text": [
      "[[1. 1.]\n",
      " [3. 2.]\n",
      " [8. 9.]\n",
      " [9. 8.]\n",
      " [1. 5.]]\n",
      "(5, 2)\n"
     ]
    }
   ],
   "source": [
    "print(data)\n",
    "print(data.shape)"
   ]
  },
  {
   "cell_type": "code",
   "execution_count": 22,
   "metadata": {},
   "outputs": [
    {
     "name": "stdout",
     "output_type": "stream",
     "text": [
      "[[[1. 1.]]\n",
      "\n",
      " [[3. 2.]]\n",
      "\n",
      " [[8. 9.]]\n",
      "\n",
      " [[9. 8.]]\n",
      "\n",
      " [[1. 5.]]]\n",
      "(5, 1, 2)\n"
     ]
    }
   ],
   "source": [
    "diff = data.reshape(5,1,2)\n",
    "print(diff)\n",
    "print(diff.shape)"
   ]
  },
  {
   "cell_type": "code",
   "execution_count": 26,
   "metadata": {},
   "outputs": [
    {
     "name": "stdout",
     "output_type": "stream",
     "text": [
      "[[[1. 1.]\n",
      "  [3. 2.]\n",
      "  [8. 9.]\n",
      "  [9. 8.]\n",
      "  [1. 5.]]]\n",
      "[[[1. 1.]\n",
      "  [3. 2.]\n",
      "  [8. 9.]\n",
      "  [9. 8.]\n",
      "  [1. 5.]]\n",
      "\n",
      " [[1. 1.]\n",
      "  [3. 2.]\n",
      "  [8. 9.]\n",
      "  [9. 8.]\n",
      "  [1. 5.]]\n",
      "\n",
      " [[1. 1.]\n",
      "  [3. 2.]\n",
      "  [8. 9.]\n",
      "  [9. 8.]\n",
      "  [1. 5.]]\n",
      "\n",
      " [[1. 1.]\n",
      "  [3. 2.]\n",
      "  [8. 9.]\n",
      "  [9. 8.]\n",
      "  [1. 5.]]\n",
      "\n",
      " [[1. 1.]\n",
      "  [3. 2.]\n",
      "  [8. 9.]\n",
      "  [9. 8.]\n",
      "  [1. 5.]]]\n",
      "(5, 5, 2)\n"
     ]
    }
   ],
   "source": [
    "data2 = data.reshape(1,5,2)\n",
    "print(data2)\n",
    "data3 = np.repeat(data2, 5, axis=0)\n",
    "print(data3)\n",
    "print(data3.shape)"
   ]
  },
  {
   "cell_type": "code",
   "execution_count": 27,
   "metadata": {},
   "outputs": [
    {
     "name": "stdout",
     "output_type": "stream",
     "text": [
      "[[[1. 1.]\n",
      "  [1. 1.]\n",
      "  [1. 1.]\n",
      "  [1. 1.]\n",
      "  [1. 1.]]\n",
      "\n",
      " [[3. 2.]\n",
      "  [3. 2.]\n",
      "  [3. 2.]\n",
      "  [3. 2.]\n",
      "  [3. 2.]]\n",
      "\n",
      " [[8. 9.]\n",
      "  [8. 9.]\n",
      "  [8. 9.]\n",
      "  [8. 9.]\n",
      "  [8. 9.]]\n",
      "\n",
      " [[9. 8.]\n",
      "  [9. 8.]\n",
      "  [9. 8.]\n",
      "  [9. 8.]\n",
      "  [9. 8.]]\n",
      "\n",
      " [[1. 5.]\n",
      "  [1. 5.]\n",
      "  [1. 5.]\n",
      "  [1. 5.]\n",
      "  [1. 5.]]]\n",
      "(5, 5, 2)\n"
     ]
    }
   ],
   "source": [
    "diff2 = np.repeat(diff, 5, axis=1)\n",
    "print(diff2)\n",
    "print(diff2.shape)"
   ]
  },
  {
   "cell_type": "code",
   "execution_count": 28,
   "metadata": {},
   "outputs": [
    {
     "name": "stdout",
     "output_type": "stream",
     "text": [
      "[[[ 0.  0.]\n",
      "  [-2. -1.]\n",
      "  [-7. -8.]\n",
      "  [-8. -7.]\n",
      "  [ 0. -4.]]\n",
      "\n",
      " [[ 2.  1.]\n",
      "  [ 0.  0.]\n",
      "  [-5. -7.]\n",
      "  [-6. -6.]\n",
      "  [ 2. -3.]]\n",
      "\n",
      " [[ 7.  8.]\n",
      "  [ 5.  7.]\n",
      "  [ 0.  0.]\n",
      "  [-1.  1.]\n",
      "  [ 7.  4.]]\n",
      "\n",
      " [[ 8.  7.]\n",
      "  [ 6.  6.]\n",
      "  [ 1. -1.]\n",
      "  [ 0.  0.]\n",
      "  [ 8.  3.]]\n",
      "\n",
      " [[ 0.  4.]\n",
      "  [-2.  3.]\n",
      "  [-7. -4.]\n",
      "  [-8. -3.]\n",
      "  [ 0.  0.]]]\n"
     ]
    }
   ],
   "source": [
    "diff_manual = diff2 - data3\n",
    "print(diff_manual)"
   ]
  },
  {
   "cell_type": "code",
   "execution_count": 29,
   "metadata": {},
   "outputs": [
    {
     "name": "stdout",
     "output_type": "stream",
     "text": [
      "[[[ 0.  0.]\n",
      "  [-2. -1.]\n",
      "  [-7. -8.]\n",
      "  [-8. -7.]\n",
      "  [ 0. -4.]]\n",
      "\n",
      " [[ 2.  1.]\n",
      "  [ 0.  0.]\n",
      "  [-5. -7.]\n",
      "  [-6. -6.]\n",
      "  [ 2. -3.]]\n",
      "\n",
      " [[ 7.  8.]\n",
      "  [ 5.  7.]\n",
      "  [ 0.  0.]\n",
      "  [-1.  1.]\n",
      "  [ 7.  4.]]\n",
      "\n",
      " [[ 8.  7.]\n",
      "  [ 6.  6.]\n",
      "  [ 1. -1.]\n",
      "  [ 0.  0.]\n",
      "  [ 8.  3.]]\n",
      "\n",
      " [[ 0.  4.]\n",
      "  [-2.  3.]\n",
      "  [-7. -4.]\n",
      "  [-8. -3.]\n",
      "  [ 0.  0.]]]\n"
     ]
    }
   ],
   "source": [
    "diff_bc = diff - data\n",
    "print(diff_bc)"
   ]
  },
  {
   "cell_type": "code",
   "execution_count": 30,
   "metadata": {},
   "outputs": [
    {
     "name": "stdout",
     "output_type": "stream",
     "text": [
      "[[[ 0.  0.]\n",
      "  [ 4.  1.]\n",
      "  [49. 64.]\n",
      "  [64. 49.]\n",
      "  [ 0. 16.]]\n",
      "\n",
      " [[ 4.  1.]\n",
      "  [ 0.  0.]\n",
      "  [25. 49.]\n",
      "  [36. 36.]\n",
      "  [ 4.  9.]]\n",
      "\n",
      " [[49. 64.]\n",
      "  [25. 49.]\n",
      "  [ 0.  0.]\n",
      "  [ 1.  1.]\n",
      "  [49. 16.]]\n",
      "\n",
      " [[64. 49.]\n",
      "  [36. 36.]\n",
      "  [ 1.  1.]\n",
      "  [ 0.  0.]\n",
      "  [64.  9.]]\n",
      "\n",
      " [[ 0. 16.]\n",
      "  [ 4.  9.]\n",
      "  [49. 16.]\n",
      "  [64.  9.]\n",
      "  [ 0.  0.]]]\n"
     ]
    }
   ],
   "source": [
    "diff_sbc = diff_bc**2\n",
    "print(diff_sbc)"
   ]
  },
  {
   "cell_type": "code",
   "execution_count": 32,
   "metadata": {},
   "outputs": [
    {
     "name": "stdout",
     "output_type": "stream",
     "text": [
      "[[  0.   5. 113. 113.  16.]\n",
      " [  5.   0.  74.  72.  13.]\n",
      " [113.  74.   0.   2.  65.]\n",
      " [113.  72.   2.   0.  73.]\n",
      " [ 16.  13.  65.  73.   0.]]\n",
      "(5, 5)\n"
     ]
    }
   ],
   "source": [
    "# summate the distance of x and y from a data to each data\n",
    "diff_ssbc = diff_sbc.sum(axis=2)\n",
    "print(diff_ssbc)\n",
    "print(diff_ssbc.shape)"
   ]
  },
  {
   "cell_type": "code",
   "execution_count": 33,
   "metadata": {},
   "outputs": [
    {
     "name": "stdout",
     "output_type": "stream",
     "text": [
      "[0 1 2 3 4]\n"
     ]
    }
   ],
   "source": [
    "i = np.arange(5)\n",
    "print(i)"
   ]
  },
  {
   "cell_type": "code",
   "execution_count": 35,
   "metadata": {},
   "outputs": [
    {
     "name": "stdout",
     "output_type": "stream",
     "text": [
      "[[ inf   5. 113. 113.  16.]\n",
      " [  5.  inf  74.  72.  13.]\n",
      " [113.  74.  inf   2.  65.]\n",
      " [113.  72.   2.  inf  73.]\n",
      " [ 16.  13.  65.  73.  inf]]\n"
     ]
    }
   ],
   "source": [
    "diff_ssbc[i, i] = np.Inf\n",
    "print(diff_ssbc)"
   ]
  },
  {
   "cell_type": "code",
   "execution_count": 36,
   "metadata": {},
   "outputs": [
    {
     "name": "stdout",
     "output_type": "stream",
     "text": [
      "[ 5.  5.  2.  2. 13.]\n"
     ]
    }
   ],
   "source": [
    "print(np.min(diff_ssbc, axis=1))"
   ]
  },
  {
   "cell_type": "code",
   "execution_count": 37,
   "metadata": {},
   "outputs": [
    {
     "name": "stdout",
     "output_type": "stream",
     "text": [
      "[1 0 3 2 1]\n"
     ]
    }
   ],
   "source": [
    "index = np.argmin(diff_ssbc, axis=1)\n",
    "print(index)"
   ]
  },
  {
   "cell_type": "code",
   "execution_count": null,
   "metadata": {},
   "outputs": [],
   "source": []
  }
 ],
 "metadata": {
  "kernelspec": {
   "display_name": "Python 3",
   "language": "python",
   "name": "python3"
  },
  "language_info": {
   "codemirror_mode": {
    "name": "ipython",
    "version": 3
   },
   "file_extension": ".py",
   "mimetype": "text/x-python",
   "name": "python",
   "nbconvert_exporter": "python",
   "pygments_lexer": "ipython3",
   "version": "3.7.6"
  }
 },
 "nbformat": 4,
 "nbformat_minor": 4
}
